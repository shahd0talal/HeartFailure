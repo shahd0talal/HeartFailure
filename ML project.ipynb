{
 "cells": [
  {
   "cell_type": "code",
   "execution_count": 5,
   "metadata": {},
   "outputs": [],
   "source": [
    "import numpy as np\n",
    "import pandas as pd"
   ]
  },
  {
   "cell_type": "code",
   "execution_count": 6,
   "metadata": {},
   "outputs": [],
   "source": [
    "# Q1: Reading and Preprocessing the Data\n",
    "data = pd.read_csv('HeartFailureDataset 2.csv') # Reading the CSV file into a Pandas DataFrame\n",
    "headers = np.array(data.columns)  # Extracting column headers (features)\n",
    "data = np.array(data)  # Converting the DataFrame to a Numpy array\n",
    "numeric = np.setdiff1d(np.arange(50), np.array([0,1,3,5,6,7,8,9,10,11,12,13]))  # Indices of numeric features"
   ]
  },
  {
   "cell_type": "code",
   "execution_count": 7,
   "metadata": {},
   "outputs": [
    {
     "name": "stdout",
     "output_type": "stream",
     "text": [
      "Males Mean: 84.80731991110707\n",
      "Females Mean: 84.36778837735726\n",
      "Males std: 16.072054208238853\n",
      "Females std: 15.954616665632308\n",
      "Females have a lower mean heart rate\n"
     ]
    }
   ],
   "source": [
    "# Q2: Calculating Mean and Standard Deviation of Heart Rate for Each Gender\n",
    "males_mean = np.nanmean(data[data[:, 3] == 1, 14])  # Calculating mean heart rate for males (assuming value (1) represents males)\n",
    "females_mean = np.nanmean(data[data[:, 3] == 2, 14])  # Calculating mean heart rate for females (assuming value (2) represents females)\n",
    "males_std = np.nanstd(data[data[:, 3] == 1, 14])  # Calculating std deviation of heart rate for males\n",
    "females_std = np.nanstd(data[data[:, 3] == 2, 14])  # Calculating std deviation of heart rate for females\n",
    "\n",
    "print(f'Males Mean: {males_mean}')\n",
    "print(f'Females Mean: {females_mean}')\n",
    "print(f'Males std: {males_std}')\n",
    "print(f'Females std: {females_std}')\n",
    "\n",
    "if males_mean > females_mean:\n",
    "    print('Females have a lower mean heart rate')\n",
    "elif males_mean < females_mean:\n",
    "    print('Males have a lower mean heart rate')\n",
    "else:\n",
    "    print('Both genders have the same mean heart rate')"
   ]
  },
  {
   "cell_type": "code",
   "execution_count": 8,
   "metadata": {},
   "outputs": [
    {
     "name": "stdout",
     "output_type": "stream",
     "text": [
      "Median = [7.70000000e+01 2.83124741e+01 8.36107994e+01 1.16128205e+02\n",
      " 5.84615385e+01 2.03723077e+01 3.66507942e+01 9.64522727e+01\n",
      " 1.67500000e+03 3.08000000e+01 3.49000000e+00 2.97500000e+01\n",
      " 3.29857143e+01 9.00000000e+01 1.55062500e+01 9.68000000e+00\n",
      " 2.22666667e+02 8.24666667e+01 3.00000000e-01 1.04750000e+01\n",
      " 1.46333333e+01 1.30000000e+00 5.84000000e+03 8.92500000e+01\n",
      " 1.28750000e+00 3.06666667e+01 1.36400000e+02 4.11538461e+00\n",
      " 1.39250000e+02 8.50000000e+00 1.02500000e+02 1.36666667e+01\n",
      " 2.09230769e+00 7.38000000e+00 2.65000000e+01 1.60000000e+00\n",
      " 4.30000000e+01 5.50000000e+01]\n",
      "IQR = [2.00000000e+01 9.30704799e+00 2.35358929e+01 2.32336957e+01\n",
      " 1.32903727e+01 5.46550532e+00 7.35945805e-01 2.91750000e+00\n",
      " 1.52000000e+03 6.85250000e+00 7.80000000e-01 2.99000000e+00\n",
      " 1.81388889e+00 7.60714286e+00 2.47750000e+00 5.30000000e+00\n",
      " 1.35340909e+02 1.26750000e+01 3.00000000e-01 8.81250000e+00\n",
      " 5.64000000e+00 5.96363636e-01 1.27170000e+04 1.39187500e+02\n",
      " 9.60000000e-01 2.44166667e+01 5.55625000e+01 5.00000000e-01\n",
      " 4.93333330e+00 7.20198864e-01 6.57142860e+00 3.16666667e+00\n",
      " 2.86111111e-01 9.53846150e-02 6.42045455e+00 1.00000000e+00\n",
      " 1.35473228e+01 1.50000000e+01]\n",
      "Minimum IQR feature = INR\n",
      "Maximum IQR feature = RBC\n"
     ]
    }
   ],
   "source": [
    "# Q3: Calculating Median and Interquartile Range for Numeric Features\n",
    "median = np.nanmedian(data[:, numeric], axis=0)  # Calculating median for numeric features\n",
    "q1 = np.nanpercentile(data[:, numeric], 25, axis=0)  # Calculating 25th percentile (Q1)\n",
    "q3 = np.nanpercentile(data[:, numeric], 75, axis=0)  # Calculating 75th percentile (Q3)\n",
    "IQR = q3 - q1  # Calculating Interquartile Range\n",
    "min_IQR = headers[np.argmin(IQR)]  # Finding the feature with the minimum IQR\n",
    "max_IQR = headers[np.argmax(IQR)]  # Finding the feature with the maximum IQR\n",
    "print(f'Median = {median}')\n",
    "print(f'IQR = {IQR}')\n",
    "print(f'Minimum IQR feature = {min_IQR}')\n",
    "print(f'Maximum IQR feature = {max_IQR}')"
   ]
  },
  {
   "cell_type": "code",
   "execution_count": 9,
   "metadata": {},
   "outputs": [
    {
     "name": "stdout",
     "output_type": "stream",
     "text": [
      "Top 10 Blood Pressure: [114085. 184453. 196981. 189112. 169263. 118932. 196856. 190823. 163199.\n",
      " 178001.]\n"
     ]
    }
   ],
   "source": [
    "# Q4: Calculating Total Blood Pressure and Identifying Top 10 Patients\n",
    "total_blood_pressure = np.nansum(data[:, 15:17], axis=1)  # Summing Systolic and Diastolic blood pressure for each patient\n",
    "highest_10_indices = np.argsort(total_blood_pressure)[-10:]  # Finding indices of top 10 total blood pressure values\n",
    "highest_total_blood_pressure = data[highest_10_indices, 0]  # Extracting patient IDs with the highest total blood pressure\n",
    "print(f'Top 10 Blood Pressure: {highest_total_blood_pressure}')"
   ]
  },
  {
   "cell_type": "code",
   "execution_count": 10,
   "metadata": {},
   "outputs": [
    {
     "name": "stdout",
     "output_type": "stream",
     "text": [
      "Top 10 patients based on their glucose values: [144806. 105820. 144894. 113423. 178833. 167919. 150854. 178684. 124926.\n",
      " 196562. 194409.]\n"
     ]
    }
   ],
   "source": [
    "# Q5: Sorting Patients Based on Glucose Values and Printing Top 10 Patients\n",
    "sort_by_glucose = data[np.argsort(data[:, 38])[::-1],]  # Sorting the dataset based on glucose values in descending order\n",
    "print(f'Top 10 patients based on their glucose values: {sort_by_glucose[0:11, 0]}')  # Printing patient IDs of top 10 based on glucose"
   ]
  },
  {
   "cell_type": "code",
   "execution_count": 11,
   "metadata": {},
   "outputs": [],
   "source": [
    "# Q6: Substituting Top 5 Creatinine Values with Median\n",
    "top_5_indices = np.argsort(data[:, 37])[-5:]  # Finding the indices of the top 5 Creatinine values\n",
    "data[top_5_indices, 37] = np.median(data[:, 37])  # Replacing top 5 Creatinine values with the median"
   ]
  },
  {
   "cell_type": "code",
   "execution_count": 12,
   "metadata": {},
   "outputs": [
    {
     "data": {
      "text/plain": [
       "array([[1.59791105e+05, 6.31578947e-01, 7.19210526e+01, ...,\n",
       "        2.51086466e+00, 3.92178942e+01, 4.48684211e+01],\n",
       "       [1.70065632e+05, 5.26315789e-01, 7.33421053e+01, ...,\n",
       "        2.25162582e+00, 4.87129218e+01, 4.40789474e+01],\n",
       "       [1.56839316e+05, 4.73684211e-01, 6.94473684e+01, ...,\n",
       "        1.93865306e+00, 4.58373608e+01, 5.08421053e+01],\n",
       "       ...,\n",
       "       [1.45597158e+05, 2.63157895e-02, 7.58947368e+01, ...,\n",
       "        6.88066667e-01, 6.37161752e+01, 5.38157895e+01],\n",
       "       [1.25473947e+05, 5.26315789e-02, 7.42631579e+01, ...,\n",
       "        6.21047619e-01, 6.85567988e+01, 3.89473684e+01],\n",
       "       [1.30697737e+05, 0.00000000e+00, 5.88157895e+01, ...,\n",
       "        1.71578947e+00, 4.00000000e+01, 5.48684211e+01]])"
      ]
     },
     "execution_count": 12,
     "metadata": {},
     "output_type": "execute_result"
    }
   ],
   "source": [
    "# Q7: Identifying Top 100 Values for Each Numeric Feature and Calculating Mean\n",
    "top_100_indices = np.argpartition(data[:, numeric], 100, axis=0)[-100:,]  # Finding indices of top 100 values for each numeric feature\n",
    "top_100_patient_means = np.nanmean(data[top_100_indices], axis=1)  # Calculating mean for each patient using top 100 values\n",
    "top_100_patient_means"
   ]
  },
  {
   "cell_type": "code",
   "execution_count": 13,
   "metadata": {},
   "outputs": [
    {
     "name": "stdout",
     "output_type": "stream",
     "text": [
      "[127360. 191289. 116888. 113812. 138440. 190054. 153366. 116367. 133975.\n",
      " 152960. 145790. 108084. 107777. 126474. 107462. 141222. 130354. 128899.\n",
      " 180135. 173649. 151364. 154468. 155273. 109577. 153207. 166585. 155044.\n",
      " 110347. 120626. 128969. 133499. 192198. 110335. 175630. 166387. 149010.\n",
      " 196357. 161407. 184331. 145202. 102433. 111327. 123701. 145333. 150871.\n",
      " 111573. 126717. 161037. 180744. 145248. 113009. 182813. 146160. 159785.]\n"
     ]
    }
   ],
   "source": [
    "# Q8: Identifying Patient IDs with 2 Standard Deviations from Mean Respiratory Rate\n",
    "mean_value = np.nanmean(data[:, 17], axis=0)  # Calculating mean respiratory rate\n",
    "std_value = np.nanstd(data[:, 17], axis=0)  # Calculating std deviation of respiratory rate\n",
    "respiratory_rate_ids = data[(data[:, 17] > mean_value + 2 * std_value) | (data[:, 17] < mean_value - 2 * std_value), 0]\n",
    "print(respiratory_rate_ids)"
   ]
  },
  {
   "cell_type": "code",
   "execution_count": 14,
   "metadata": {},
   "outputs": [],
   "source": [
    "# Q9: Computing k-NN (k-Nearest Neighbors) for Each Patient\n",
    "k = 3\n",
    "dis = np.sqrt(np.nansum((data[:, np.newaxis, :] - data[np.newaxis, :, :]) ** 2, axis=-1))  # Computing Euclidean distances\n",
    "knn = np.argpartition(dis, k, axis=1)[:k]  # Finding the indices of k-NN for each patient"
   ]
  },
  {
   "cell_type": "code",
   "execution_count": 15,
   "metadata": {},
   "outputs": [
    {
     "name": "stdout",
     "output_type": "stream",
     "text": [
      "Top correlated patients: ID and outcome\n",
      "Correlation Matrix:\n",
      "[[ 1.                 nan -0.0265465  ...         nan         nan\n",
      "   0.01554666]\n",
      " [        nan         nan         nan ...         nan         nan\n",
      "          nan]\n",
      " [-0.0265465          nan  1.         ...         nan         nan\n",
      "   0.05439953]\n",
      " ...\n",
      " [        nan         nan         nan ...         nan         nan\n",
      "          nan]\n",
      " [        nan         nan         nan ...         nan         nan\n",
      "          nan]\n",
      " [ 0.01554666         nan  0.05439953 ...         nan         nan\n",
      "   1.        ]]\n"
     ]
    }
   ],
   "source": [
    "# Q10: Computing Pearson Correlation Coefficient and Identifying Top Correlated Patients\n",
    "correlation_matrix = np.corrcoef(data, rowvar=False)  # Computing Pearson correlation matrix\n",
    "max_corr_index = np.unravel_index(np.argmax(correlation_matrix), correlation_matrix.shape)  # Finding indices of max correlation\n",
    "patient1, patient2 = max_corr_index\n",
    "\n",
    "print(f'Top correlated patients: {headers[patient1]} and {headers[patient2]}')\n",
    "print('Correlation Matrix:')\n",
    "print(correlation_matrix)"
   ]
  },
  {
   "cell_type": "code",
   "execution_count": null,
   "metadata": {},
   "outputs": [],
   "source": []
  }
 ],
 "metadata": {
  "kernelspec": {
   "display_name": "Python 3 (ipykernel)",
   "language": "python",
   "name": "python3"
  },
  "language_info": {
   "codemirror_mode": {
    "name": "ipython",
    "version": 3
   },
   "file_extension": ".py",
   "mimetype": "text/x-python",
   "name": "python",
   "nbconvert_exporter": "python",
   "pygments_lexer": "ipython3",
   "version": "3.11.5"
  }
 },
 "nbformat": 4,
 "nbformat_minor": 4
}
